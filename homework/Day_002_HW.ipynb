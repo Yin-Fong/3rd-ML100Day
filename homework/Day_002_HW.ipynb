{
 "cells": [
  {
   "cell_type": "markdown",
   "metadata": {},
   "source": [
    "## [作業目標]\n",
    "了解機器學習適合應用的領域與範疇。"
   ]
  },
  {
   "cell_type": "markdown",
   "metadata": {},
   "source": [
    "## [作業重點]\n",
    "透過瞭解機器學習的運作方式，找出非常適用機器學習應用的領域及其原因"
   ]
  },
  {
   "cell_type": "markdown",
   "metadata": {},
   "source": [
    "## 作業\n",
    "請找出一個你認為機器學習可以發光發熱的領域並闡述原因? "
   ]
  },
  {
   "cell_type": "markdown",
   "metadata": {},
   "source": [
    "在經過資料的調查後，我覺得機器學習是為了分類或預測存在\n",
    "(1).分類運用\n",
    "運用於房地產上，舉個例子來說在輸入不同維度資料後(EX:房價、海拔、坪數等)\n",
    "可以讓機器自動幫我們分類所新進來的資料是屬於哪一個地區的房地產\n",
    "未來建商也可參考這些資料集來制定預售屋的價格。\n",
    "(2).關聯分析\n",
    "透過關聯性分析可以得知消費者的習性與行為，因此在顧客消費第一樣商品後，藉由之前的資料來預測顧客下一樣可能會買的商品\n",
    "並透過推薦系統，將商品推薦給顧客，增加公司的營收，而且資料不斷的增加，模型不斷的修正後，推薦的準確度將會越高。"
   ]
  }
 ],
 "metadata": {
  "kernelspec": {
   "display_name": "Python 3",
   "language": "python",
   "name": "python3"
  },
  "language_info": {
   "codemirror_mode": {
    "name": "ipython",
    "version": 3
   },
   "file_extension": ".py",
   "mimetype": "text/x-python",
   "name": "python",
   "nbconvert_exporter": "python",
   "pygments_lexer": "ipython3",
   "version": "3.7.3"
  }
 },
 "nbformat": 4,
 "nbformat_minor": 2
}
